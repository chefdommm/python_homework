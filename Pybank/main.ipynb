{
 "cells": [
  {
   "cell_type": "code",
   "execution_count": 13,
   "id": "f20af311-7057-4576-bbb9-4624c5ac78aa",
   "metadata": {},
   "outputs": [],
   "source": [
    "from pathlib import Path\n",
    "import csv"
   ]
  },
  {
   "cell_type": "code",
   "execution_count": 14,
   "id": "653ef49d-223b-488e-8602-f24ef7c27fea",
   "metadata": {},
   "outputs": [],
   "source": [
    "csvpath = Path(\"C:/Users/chefd/OneDrive/Desktop/csv/budget_data.csv\")\n"
   ]
  },
  {
   "cell_type": "code",
   "execution_count": 17,
   "id": "f48c3688-05ea-43f7-8138-fb4c33d947cf",
   "metadata": {},
   "outputs": [],
   "source": [
    "total_number_months = 0\n",
    "net_total = 0\n",
    "profit_or_loss = 0\n",
    "monthly_profit_loss = []\n",
    "monthly_change = []\n",
    "\n",
    "\n",
    "highest_profit_date = \"\"\n",
    "highest_profit_value = 0\n",
    "highest_loss_date = \"\"\n",
    "highest_loss_value = 0"
   ]
  },
  {
   "cell_type": "code",
   "execution_count": 19,
   "id": "8c47b0c2-78ca-4eb0-81c4-fc9c165789a7",
   "metadata": {},
   "outputs": [],
   "source": [
    "with open(csvpath, 'r') as csvfile:\n",
    "    csvreader = csv.reader(csvfile, delimiter=',')\n",
    "    csv_header = next(csvreader)\n",
    "    \n",
    "    \n",
    "    \n",
    "    for row in (csvreader):\n",
    "        date = str(row[0])\n",
    "        profit_or_loss = profit_or_loss + int(row[1])\n",
    "        total_number_months = total_number_months + 1\n",
    "        monthly_profit_loss.append(int(row[1]))\n",
    "        \n",
    "        \n",
    "        if highest_profit_value == 0:\n",
    "            highest_profit_value = int(row[1])\n",
    "            highest_profit_date = date\n",
    "            highest_loss_value = int(row[1])\n",
    "            highest_loss_date = date\n",
    "        elif int(row[1]) > highest_profit_value:\n",
    "            highest_profit_value = int(row[1])\n",
    "            highest_profit_date = date\n",
    "        if int(row[1]) < highest_loss_value:\n",
    "            highest_loss_value = int(row[1])\n",
    "            highest_loss_date = date\n",
    "            \n",
    "            \n",
    "            \n",
    "    for i in range(len(monthly_profit_loss)-1):\n",
    "        \n",
    "        monthly_change.append(monthly_profit_loss[i+1]-monthly_profit_loss[i])\n",
    "        increase_value = max(monthly_change)\n",
    "        decrease_value = min(monthly_change)\n",
    "        \n",
    "    for pnl in monthly_change:\n",
    "        net_total = net_total + pnl\n",
    "        \n",
    "    average_difference = round(net_total/len(monthly_change),2)"
   ]
  },
  {
   "cell_type": "code",
   "execution_count": 25,
   "id": "b1f79eb2-26f8-44ab-9e80-6ad1e34dcca0",
   "metadata": {},
   "outputs": [
    {
     "name": "stdout",
     "output_type": "stream",
     "text": [
      "Financial Analysis\n",
      "===============================================\n",
      "Total Months: 86\n",
      "Total $38382578\n",
      "The Average Change was: $-2315.12\n",
      "The Greatest Increase in Profits: Feb-2012 $1926159\n",
      "The Greatest Decrease in Profits: Sep-2013 $-2196167\n"
     ]
    }
   ],
   "source": [
    "print(\"Financial Analysis\")\n",
    "print(\"===============================================\")\n",
    "print(\"Total Months:\", total_number_months)\n",
    "print(f\"Total ${profit_or_loss}\")\n",
    "print(f\"The Average Change was: ${average_difference}\")\n",
    "print(f\"The Greatest Increase in Profits: {highest_profit_date} ${increase_value}\")\n",
    "print(f\"The Greatest Decrease in Profits: {highest_loss_date} ${decrease_value}\")"
   ]
  },
  {
   "cell_type": "code",
   "execution_count": null,
   "id": "fb5db4f9-67d0-4652-8485-79a07479bf8a",
   "metadata": {},
   "outputs": [],
   "source": []
  }
 ],
 "metadata": {
  "kernelspec": {
   "display_name": "Python 3 (ipykernel)",
   "language": "python",
   "name": "python3"
  },
  "language_info": {
   "codemirror_mode": {
    "name": "ipython",
    "version": 3
   },
   "file_extension": ".py",
   "mimetype": "text/x-python",
   "name": "python",
   "nbconvert_exporter": "python",
   "pygments_lexer": "ipython3",
   "version": "3.9.12"
  }
 },
 "nbformat": 4,
 "nbformat_minor": 5
}
